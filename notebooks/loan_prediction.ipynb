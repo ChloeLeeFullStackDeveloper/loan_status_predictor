{
 "cells": [
  {
   "cell_type": "markdown",
   "id": "d155a23d",
   "metadata": {},
   "source": [
    "# 🧠 Loan Status Prediction with Random Forest"
   ]
  },
  {
   "cell_type": "code",
   "execution_count": null,
   "id": "e8325431",
   "metadata": {},
   "outputs": [],
   "source": [
    "\n",
    "import pandas as pd\n",
    "import numpy as np\n",
    "import matplotlib.pyplot as plt\n",
    "import seaborn as sns\n",
    "\n",
    "from sklearn.model_selection import train_test_split\n",
    "from sklearn.preprocessing import LabelEncoder\n",
    "from sklearn.ensemble import RandomForestClassifier\n",
    "from sklearn.metrics import classification_report, confusion_matrix\n",
    "from imblearn.over_sampling import SMOTE\n",
    "\n",
    "%matplotlib inline\n"
   ]
  },
  {
   "cell_type": "code",
   "execution_count": null,
   "id": "a0e937e4",
   "metadata": {},
   "outputs": [],
   "source": [
    "\n",
    "df = pd.read_csv('../data/lending_club_full.csv')\n",
    "df.head()\n"
   ]
  },
  {
   "cell_type": "code",
   "execution_count": null,
   "id": "96478005",
   "metadata": {},
   "outputs": [],
   "source": [
    "\n",
    "# Drop irrelevant or high-missing columns\n",
    "df = df[['loan_amnt', 'term', 'int_rate', 'grade', 'emp_length', 'home_ownership', 'annual_inc', 'purpose', 'dti', 'loan_status']]\n",
    "df.dropna(inplace=True)\n",
    "\n",
    "# Encode target\n",
    "df = df[df['loan_status'].isin(['Fully Paid', 'Charged Off'])]\n",
    "df['loan_status'] = df['loan_status'].map({'Fully Paid': 0, 'Charged Off': 1})\n",
    "\n",
    "# Encode categorical features\n",
    "categorical_cols = ['term', 'grade', 'emp_length', 'home_ownership', 'purpose']\n",
    "df = pd.get_dummies(df, columns=categorical_cols, drop_first=True)\n"
   ]
  },
  {
   "cell_type": "code",
   "execution_count": null,
   "id": "a6e593f6",
   "metadata": {},
   "outputs": [],
   "source": [
    "\n",
    "X = df.drop('loan_status', axis=1)\n",
    "y = df['loan_status']\n",
    "\n",
    "X_train, X_test, y_train, y_test = train_test_split(X, y, test_size=0.2, random_state=42)\n",
    "\n",
    "smote = SMOTE(random_state=42)\n",
    "X_res, y_res = smote.fit_resample(X_train, y_train)\n"
   ]
  },
  {
   "cell_type": "code",
   "execution_count": null,
   "id": "38cd0201",
   "metadata": {},
   "outputs": [],
   "source": [
    "\n",
    "model = RandomForestClassifier(n_estimators=100, random_state=42)\n",
    "model.fit(X_res, y_res)\n",
    "\n",
    "y_pred = model.predict(X_test)\n",
    "\n",
    "print(classification_report(y_test, y_pred))\n",
    "\n",
    "cm = confusion_matrix(y_test, y_pred)\n",
    "sns.heatmap(cm, annot=True, fmt='d', cmap='Blues')\n",
    "plt.title(\"Confusion Matrix\")\n",
    "plt.xlabel(\"Predicted\")\n",
    "plt.ylabel(\"Actual\")\n",
    "plt.show()\n"
   ]
  },
  {
   "cell_type": "code",
   "execution_count": null,
   "id": "8d7da1d7",
   "metadata": {},
   "outputs": [],
   "source": [
    "\n",
    "importances = model.feature_importances_\n",
    "indices = np.argsort(importances)[-10:]\n",
    "\n",
    "plt.figure(figsize=(10, 6))\n",
    "plt.title(\"Top 10 Important Features\")\n",
    "plt.barh(range(len(indices)), importances[indices], align='center')\n",
    "plt.yticks(range(len(indices)), [X.columns[i] for i in indices])\n",
    "plt.xlabel(\"Relative Importance\")\n",
    "plt.show()\n"
   ]
  }
 ],
 "metadata": {
  "language_info": {
   "name": "python"
  }
 },
 "nbformat": 4,
 "nbformat_minor": 5
}
